{
  "nbformat": 4,
  "nbformat_minor": 0,
  "metadata": {
    "colab": {
      "provenance": []
    },
    "kernelspec": {
      "name": "python3",
      "display_name": "Python 3"
    },
    "language_info": {
      "name": "python"
    }
  },
  "cells": [
    {
      "cell_type": "code",
      "source": [
        "import pandas as pd"
      ],
      "metadata": {
        "id": "rJ_v8td7QHpq"
      },
      "execution_count": null,
      "outputs": []
    },
    {
      "cell_type": "code",
      "source": [
        "annual_income = 2 * 2 * 6.4\n",
        "annual_income"
      ],
      "metadata": {
        "colab": {
          "base_uri": "https://localhost:8080/"
        },
        "id": "IRV75sp_QJkG",
        "outputId": "b9c7a376-b460-4499-dbbf-eeeeef20f647"
      },
      "execution_count": null,
      "outputs": [
        {
          "output_type": "execute_result",
          "data": {
            "text/plain": [
              "25.6"
            ]
          },
          "metadata": {},
          "execution_count": 7
        }
      ]
    },
    {
      "cell_type": "code",
      "source": [
        "c_tank_cost = 9.5\n",
        "num_truck= 113\n",
        "truck_cost_per_unit = 0.05\n",
        "total_cost = num_truck * truck_cost_per_unit\n",
        "c_total_cost = c_tank_cost + total_cost\n",
        "\n",
        "s_tank_cost = 79\n",
        "s_total_cost = s_tank_cost + total_cost\n",
        "c_total_cost, s_total_cost"
      ],
      "metadata": {
        "colab": {
          "base_uri": "https://localhost:8080/"
        },
        "id": "Wg0_4W4vQLql",
        "outputId": "e1d31d53-6e69-4b29-f9ae-fb869a83c362"
      },
      "execution_count": null,
      "outputs": [
        {
          "output_type": "execute_result",
          "data": {
            "text/plain": [
              "(15.15, 84.65)"
            ]
          },
          "metadata": {},
          "execution_count": 16
        }
      ]
    },
    {
      "cell_type": "code",
      "source": [
        "annual_operating_cost = 7.065"
      ],
      "metadata": {
        "id": "hME12LApRjPe"
      },
      "execution_count": null,
      "outputs": []
    },
    {
      "cell_type": "code",
      "source": [
        "c_depreciation = c_tank_cost / 25\n",
        "s_depreciation = s_tank_cost / 25\n",
        "\n",
        "depreciation_truck = total_cost / 10\n",
        "\n",
        "c_total_depreciation = c_depreciation + depreciation_truck\n",
        "s_total_depreciation = s_depreciation + depreciation_truck\n",
        "\n",
        "tax_rate = 0.25\n",
        "\n",
        "c_tax = annual_income - annual_operating_cost - c_total_depreciation\n",
        "c_tax_payment = tax_rate * c_tax\n",
        "\n",
        "s_tax = annual_income - annual_operating_cost - s_total_depreciation\n",
        "s_tax_payment = tax_rate * s_tax\n",
        "c_tax_payment, s_tax_payment"
      ],
      "metadata": {
        "colab": {
          "base_uri": "https://localhost:8080/"
        },
        "id": "LeGIDChUR0q_",
        "outputId": "172787f8-4b59-4f29-da2e-76ad7bbe90d0"
      },
      "execution_count": null,
      "outputs": [
        {
          "output_type": "execute_result",
          "data": {
            "text/plain": [
              "(4.3975, 3.7025)"
            ]
          },
          "metadata": {},
          "execution_count": 18
        }
      ]
    },
    {
      "cell_type": "code",
      "source": [
        "c_annual_cashflow = annual_income - annual_operating_cost - c_tax_payment\n",
        "s_annual_cashflow = annual_income - annual_operating_cost - s_tax_payment\n",
        "c_annual_cashflow, s_annual_cashflow"
      ],
      "metadata": {
        "colab": {
          "base_uri": "https://localhost:8080/"
        },
        "id": "tJhT3v3sTFtu",
        "outputId": "6ea04458-a8d5-4d43-9ca4-297dbc7999ff"
      },
      "execution_count": null,
      "outputs": [
        {
          "output_type": "execute_result",
          "data": {
            "text/plain": [
              "(14.1375, 14.8325)"
            ]
          },
          "metadata": {},
          "execution_count": 19
        }
      ]
    },
    {
      "cell_type": "code",
      "source": [
        "discount_rate = 0.15\n",
        "years = 25\n",
        "\n",
        "c_npv = -c_total_cost + sum(c_annual_cashflow / (1 + discount_rate) ** t for t in range(1, years + 1))\n",
        "s_npv = -s_total_cost + sum(s_annual_cashflow / (1 + discount_rate) ** t for t in range(1, years + 1))\n",
        "c_npv, s_npv"
      ],
      "metadata": {
        "colab": {
          "base_uri": "https://localhost:8080/"
        },
        "id": "D8xTJWupTvTR",
        "outputId": "a1edcfa6-963a-4fdb-98db-f73043fc8aea"
      },
      "execution_count": null,
      "outputs": [
        {
          "output_type": "execute_result",
          "data": {
            "text/plain": [
              "(76.23690769300663, 11.229491307269399)"
            ]
          },
          "metadata": {},
          "execution_count": 20
        }
      ]
    },
    {
      "cell_type": "code",
      "source": [
        "final = {\n",
        "    \"Metric\": [\n",
        "        \"Annual Revenue (Million $)\",\n",
        "        \"Annual Cash Flow (Million $)\",\n",
        "        \"Net Present Value (NPV, Million $)\"\n",
        "    ],\n",
        "    \"Centralized Storage (Coos Bay)\": [annual_income, c_annual_cashflow, c_npv],\n",
        "    \"Decentralized Storage (Satellite Tanks)\": [annual_income, s_annual_cashflow, s_npv],\n",
        "}\n",
        "final"
      ],
      "metadata": {
        "colab": {
          "base_uri": "https://localhost:8080/"
        },
        "id": "amQJsvopLkmS",
        "outputId": "22b81d59-0916-424e-cba6-080d41328400"
      },
      "execution_count": null,
      "outputs": [
        {
          "output_type": "execute_result",
          "data": {
            "text/plain": [
              "{'Metric': ['Annual Revenue (Million $)',\n",
              "  'Annual Cash Flow (Million $)',\n",
              "  'Net Present Value (NPV, Million $)'],\n",
              " 'Centralized Storage (Coos Bay)': [25.6, 14.1375, 76.23690769300663],\n",
              " 'Decentralized Storage (Satellite Tanks)': [25.6,\n",
              "  14.8325,\n",
              "  11.229491307269399]}"
            ]
          },
          "metadata": {},
          "execution_count": 21
        }
      ]
    },
    {
      "cell_type": "code",
      "source": [
        "location_coordinates = {\n",
        "    \"Coalinga\": (36.14, -120.36),\n",
        "    \"Palo Alto\": (37.44, -122.14),\n",
        "    \"Susanville\": (40.42, -120.65),\n",
        "    \"Vernon\": (34.00, -118.23),\n",
        "    \"Island Energy\": (38.10, -121.70),\n",
        "    \"Long Beach\": (33.77, -118.19),\n",
        "    \"PG&E\": (37.78, -122.42),\n",
        "    \"SDG&E\": (32.72, -117.16),\n",
        "    \"SoCalGas\": (34.05, -118.25),\n",
        "    \"Southwest Gas\": (36.17, -115.14),\n",
        "    \"Tuscarora\": (41.27, -116.80),\n",
        "    \"Coos Bay\": (43.37, -124.22)\n",
        "}\n",
        "\n",
        "demand_data = {\n",
        "    \"Coalinga\": 100,\n",
        "    \"Palo Alto\": 200,\n",
        "    \"Susanville\": 100,\n",
        "    \"Vernon\": 100,\n",
        "    \"Island Energy\": 100,\n",
        "    \"Long Beach\": 600,\n",
        "    \"PG&E\": 2300,\n",
        "    \"SDG&E\": 800,\n",
        "    \"SoCalGas\": 1600,\n",
        "    \"Southwest Gas\": 400,\n",
        "    \"Tuscarora\": 100\n",
        "}\n",
        "\n",
        "\n",
        "total_demand = sum(demand_data.values())\n",
        "weighted_x = sum(location_coordinates[loc][0] * demand_data[loc] for loc in demand_data) / total_demand\n",
        "weighted_y = sum(location_coordinates[loc][1] * demand_data[loc] for loc in demand_data) / total_demand\n",
        "\n",
        "optimal_location = (weighted_x, weighted_y)\n",
        "\n",
        "optimal_location\n"
      ],
      "metadata": {
        "colab": {
          "base_uri": "https://localhost:8080/"
        },
        "id": "fIbKxfdOAh_D",
        "outputId": "6e5473af-92bb-4062-edab-2077359d7033"
      },
      "execution_count": 1,
      "outputs": [
        {
          "output_type": "execute_result",
          "data": {
            "text/plain": [
              "(35.74390625, -119.6353125)"
            ]
          },
          "metadata": {},
          "execution_count": 1
        }
      ]
    }
  ]
}